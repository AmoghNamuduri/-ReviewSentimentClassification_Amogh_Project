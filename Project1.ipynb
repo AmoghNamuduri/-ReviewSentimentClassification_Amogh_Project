{
  "cells": [
    {
      "cell_type": "markdown",
      "metadata": {
        "id": "KToSX4gZ4P3p"
      },
      "source": [
        "# Project: Review Sentiment Classification\n",
        "\n",
        "## Acknowledgement:\n",
        "The datascience module is developed by University of California Berkeley for its Data 8 course.\n"
      ]
    },
    {
      "cell_type": "code",
      "execution_count": 30,
      "metadata": {
        "id": "Y4iT5oOY4P38",
        "trusted": true
      },
      "outputs": [],
      "source": [
        "import datascience\n",
        "import numpy as np\n",
        "import graphviz\n",
        "\n",
        "from datascience import *\n",
        "from sklearn.feature_extraction.text import CountVectorizer\n",
        "from sklearn.model_selection import train_test_split\n",
        "from sklearn.pipeline import Pipeline\n",
        "from sklearn import tree\n",
        "from sklearn.tree import DecisionTreeClassifier\n",
        "from sklearn import metrics\n",
        "\n",
        "from sklearn.metrics import f1_score\n",
        "from sklearn.metrics import precision_score\n",
        "from sklearn.metrics import recall_score\n",
        "from sklearn.model_selection import cross_val_score\n",
        "from sklearn.model_selection import cross_validate\n",
        "from sklearn.base import ClassifierMixin\n",
        "from sklearn.model_selection import StratifiedKFold\n",
        "from sklearn.metrics import precision_recall_fscore_support\n",
        "\n",
        "import pandas as pd\n",
        "import numpy as np\n",
        "\n",
        "import joblib\n",
        "\n",
        "# import os\n",
        "# os.environ[\"PATH\"] += os.pathsep + 'C:/Program Files (x86)/Graphviz2.38/bin/'"
      ]
    },
    {
      "cell_type": "markdown",
      "metadata": {
        "id": "1fUfg_4MKZNN"
      },
      "source": [
        "# Mount Google Drive\n",
        "\n",
        "We need to first mount the Google Drive in Colab before we can read data from Google Drive."
      ]
    },
    {
      "cell_type": "code",
      "execution_count": 31,
      "metadata": {
        "id": "-emHtoEfKtGt",
        "colab": {
          "base_uri": "https://localhost:8080/"
        },
        "outputId": "c001dcac-66d3-4a6f-af70-32b951e7b928"
      },
      "outputs": [
        {
          "output_type": "stream",
          "name": "stdout",
          "text": [
            "Drive already mounted at /content/drive; to attempt to forcibly remount, call drive.mount(\"/content/drive\", force_remount=True).\n"
          ]
        }
      ],
      "source": [
        "from google.colab import drive\n",
        "drive.mount('/content/drive')"
      ]
    },
    {
      "cell_type": "code",
      "execution_count": 32,
      "metadata": {
        "id": "B_78rEwA4P4R",
        "trusted": true,
        "colab": {
          "base_uri": "https://localhost:8080/",
          "height": 427
        },
        "outputId": "f9cbd7b9-6337-43ab-a03f-e6ac62d8a27e"
      },
      "outputs": [
        {
          "output_type": "display_data",
          "data": {
            "text/plain": [
              "<IPython.core.display.HTML object>"
            ],
            "text/html": [
              "<table border=\"1\" class=\"dataframe\">\n",
              "    <thead>\n",
              "        <tr>\n",
              "            <th>review</th> <th>sentiment</th>\n",
              "        </tr>\n",
              "    </thead>\n",
              "    <tbody>\n",
              "        <tr>\n",
              "            <td>One of the other reviewers has mentioned that after watc ...</td> <td>positive </td>\n",
              "        </tr>\n",
              "        <tr>\n",
              "            <td>A wonderful little production. <br /><br />The filming t ...</td> <td>positive </td>\n",
              "        </tr>\n",
              "        <tr>\n",
              "            <td>I thought this was a wonderful way to spend time on a to ...</td> <td>positive </td>\n",
              "        </tr>\n",
              "        <tr>\n",
              "            <td>Basically there's a family where a little boy (Jake) thi ...</td> <td>negative </td>\n",
              "        </tr>\n",
              "        <tr>\n",
              "            <td>Petter Mattei's \"Love in the Time of Money\" is a visuall ...</td> <td>positive </td>\n",
              "        </tr>\n",
              "        <tr>\n",
              "            <td>Probably my all-time favorite movie, a story of selfless ...</td> <td>positive </td>\n",
              "        </tr>\n",
              "        <tr>\n",
              "            <td>I sure would like to see a resurrection of a up dated Se ...</td> <td>positive </td>\n",
              "        </tr>\n",
              "        <tr>\n",
              "            <td>This show was an amazing, fresh & innovative idea in the ...</td> <td>negative </td>\n",
              "        </tr>\n",
              "        <tr>\n",
              "            <td>Encouraged by the positive comments about this film on h ...</td> <td>negative </td>\n",
              "        </tr>\n",
              "        <tr>\n",
              "            <td>If you like original gut wrenching laughter you will lik ...</td> <td>positive </td>\n",
              "        </tr>\n",
              "    </tbody>\n",
              "</table>\n",
              "<p>... (49990 rows omitted)</p>"
            ]
          },
          "metadata": {}
        }
      ],
      "source": [
        "path = \"/content/drive/My Drive/IMDBReviewsSentiment.csv\"\n",
        "reviews = Table.read_table(path)\n",
        "reviews.show(10)"
      ]
    },
    {
      "cell_type": "markdown",
      "metadata": {
        "id": "Jad87dd8T9uq"
      },
      "source": [
        "## Sample 1000 positive tweets for constructing your predictive model for movie review sentiment analysis."
      ]
    },
    {
      "cell_type": "code",
      "execution_count": 33,
      "metadata": {
        "id": "NeWHmc216asJ",
        "colab": {
          "base_uri": "https://localhost:8080/",
          "height": 392
        },
        "outputId": "48b0652b-ef0b-4ef6-a566-8a55758a6bf1"
      },
      "outputs": [
        {
          "output_type": "display_data",
          "data": {
            "text/plain": [
              "<IPython.core.display.HTML object>"
            ],
            "text/html": [
              "<table border=\"1\" class=\"dataframe\">\n",
              "    <thead>\n",
              "        <tr>\n",
              "            <th>review</th> <th>sentiment</th>\n",
              "        </tr>\n",
              "    </thead>\n",
              "    <tbody>\n",
              "        <tr>\n",
              "            <td>Playing a character from a literary classic can be a bit ...</td> <td>positive </td>\n",
              "        </tr>\n",
              "        <tr>\n",
              "            <td>This film is my favorite comedy of all time and I have s ...</td> <td>positive </td>\n",
              "        </tr>\n",
              "        <tr>\n",
              "            <td>It is a well known fact that when Gene Roddenberry first ...</td> <td>positive </td>\n",
              "        </tr>\n",
              "        <tr>\n",
              "            <td>Some guys think that sniper is not good because of the a ...</td> <td>positive </td>\n",
              "        </tr>\n",
              "        <tr>\n",
              "            <td>Wendigo is a pretty good psychological thriller, the fil ...</td> <td>positive </td>\n",
              "        </tr>\n",
              "        <tr>\n",
              "            <td>This little film had long been on my \"keeper\" list. Do p ...</td> <td>positive </td>\n",
              "        </tr>\n",
              "        <tr>\n",
              "            <td>I never thought an old cartoon would bring tears to my e ...</td> <td>positive </td>\n",
              "        </tr>\n",
              "        <tr>\n",
              "            <td>Michigan, Edgar Allen Poe, a toaster, and a frying pan . ...</td> <td>positive </td>\n",
              "        </tr>\n",
              "        <tr>\n",
              "            <td>This movie was very funny with just a bit of gore. It is ...</td> <td>positive </td>\n",
              "        </tr>\n",
              "        <tr>\n",
              "            <td>at least for me. and rather unexpected -as subject. a mo ...</td> <td>positive </td>\n",
              "        </tr>\n",
              "    </tbody>\n",
              "</table>\n",
              "<p>... (990 rows omitted)</p>"
            ]
          },
          "metadata": {}
        }
      ],
      "source": [
        "pos_reviews = reviews.where(\"sentiment\", are.equal_to('positive')).sample( 1000, with_replacement=False)\n",
        "pos_reviews.show(10)"
      ]
    },
    {
      "cell_type": "markdown",
      "metadata": {
        "id": "p0BP4roSU3sD"
      },
      "source": [
        "# Add a Classification Column for Positive Reviews"
      ]
    },
    {
      "cell_type": "code",
      "execution_count": 6,
      "metadata": {
        "id": "gy52n_Ld7D21",
        "colab": {
          "base_uri": "https://localhost:8080/",
          "height": 235
        },
        "outputId": "b7205905-8782-4885-e739-2e25d9ccc980"
      },
      "outputs": [
        {
          "output_type": "display_data",
          "data": {
            "text/plain": [
              "<IPython.core.display.HTML object>"
            ],
            "text/html": [
              "<table border=\"1\" class=\"dataframe\">\n",
              "    <thead>\n",
              "        <tr>\n",
              "            <th>review</th> <th>sentiment</th> <th>classification</th>\n",
              "        </tr>\n",
              "    </thead>\n",
              "    <tbody>\n",
              "        <tr>\n",
              "            <td>This is a fine drama and a nice change of pace from toda ...</td> <td>positive </td> <td>1             </td>\n",
              "        </tr>\n",
              "        <tr>\n",
              "            <td>I saw this Documentary at the Cannes Film Festival, in a ...</td> <td>positive </td> <td>1             </td>\n",
              "        </tr>\n",
              "        <tr>\n",
              "            <td>This movie surprised me. The box is misleading, the tagl ...</td> <td>positive </td> <td>1             </td>\n",
              "        </tr>\n",
              "        <tr>\n",
              "            <td>I just watched this film again and remain dismayed at th ...</td> <td>positive </td> <td>1             </td>\n",
              "        </tr>\n",
              "        <tr>\n",
              "            <td>PUBLIC ENEMIES is a kind of throw-back to those early 19 ...</td> <td>positive </td> <td>1             </td>\n",
              "        </tr>\n",
              "    </tbody>\n",
              "</table>\n",
              "<p>... (995 rows omitted)</p>"
            ]
          },
          "metadata": {}
        }
      ],
      "source": [
        "pos_reviews2 = pos_reviews.with_column(\"classification\", 1)\n",
        "pos_reviews2.show(5)"
      ]
    },
    {
      "cell_type": "markdown",
      "metadata": {
        "id": "6Fo_1K0BU_Oo"
      },
      "source": [
        "## Sample 1000 negative reviews."
      ]
    },
    {
      "cell_type": "code",
      "execution_count": 7,
      "metadata": {
        "id": "h69gvExE6obN",
        "colab": {
          "base_uri": "https://localhost:8080/",
          "height": 392
        },
        "outputId": "a514e451-34f3-4304-b111-008d810eecc2"
      },
      "outputs": [
        {
          "output_type": "display_data",
          "data": {
            "text/plain": [
              "<IPython.core.display.HTML object>"
            ],
            "text/html": [
              "<table border=\"1\" class=\"dataframe\">\n",
              "    <thead>\n",
              "        <tr>\n",
              "            <th>review</th> <th>sentiment</th>\n",
              "        </tr>\n",
              "    </thead>\n",
              "    <tbody>\n",
              "        <tr>\n",
              "            <td>This movie is horrible if you pay attention to it. It's  ...</td> <td>negative </td>\n",
              "        </tr>\n",
              "        <tr>\n",
              "            <td>Many times the description \"full of sound and fury signi ...</td> <td>negative </td>\n",
              "        </tr>\n",
              "        <tr>\n",
              "            <td>The comments already left for this show are way more fun ...</td> <td>negative </td>\n",
              "        </tr>\n",
              "        <tr>\n",
              "            <td>C.H.O.M.P.S. is very much like any number of cheesy late ...</td> <td>negative </td>\n",
              "        </tr>\n",
              "        <tr>\n",
              "            <td>I just couldn't stop laughing!! This movie is incredibly ...</td> <td>negative </td>\n",
              "        </tr>\n",
              "        <tr>\n",
              "            <td>I chuckled a few times during this movie. I laughed out  ...</td> <td>negative </td>\n",
              "        </tr>\n",
              "        <tr>\n",
              "            <td>I'm a huge lover of really bad B movies. And I especiall ...</td> <td>negative </td>\n",
              "        </tr>\n",
              "        <tr>\n",
              "            <td>Right then. This film is totally unfunny, puerile, has g ...</td> <td>negative </td>\n",
              "        </tr>\n",
              "        <tr>\n",
              "            <td>PLAN B has the appearance of a quickly made, unedited, s ...</td> <td>negative </td>\n",
              "        </tr>\n",
              "        <tr>\n",
              "            <td>Fox is pretty lame. They cancel the wrong shows. It's bi ...</td> <td>negative </td>\n",
              "        </tr>\n",
              "    </tbody>\n",
              "</table>\n",
              "<p>... (990 rows omitted)</p>"
            ]
          },
          "metadata": {}
        }
      ],
      "source": [
        "neg_reviews = reviews.where(\"sentiment\", are.equal_to('negative')).sample(1000, with_replacement=False)\n",
        "neg_reviews.show(10)"
      ]
    },
    {
      "cell_type": "markdown",
      "metadata": {
        "id": "ij4xrUnxVh8s"
      },
      "source": [
        "# Add the Classification Column for Negative Reviews"
      ]
    },
    {
      "cell_type": "code",
      "execution_count": 8,
      "metadata": {
        "id": "GhpRm8AN7-dY",
        "colab": {
          "base_uri": "https://localhost:8080/",
          "height": 235
        },
        "outputId": "5a3fa82e-1371-4d59-8684-8f2e8d2f74f6"
      },
      "outputs": [
        {
          "output_type": "display_data",
          "data": {
            "text/plain": [
              "<IPython.core.display.HTML object>"
            ],
            "text/html": [
              "<table border=\"1\" class=\"dataframe\">\n",
              "    <thead>\n",
              "        <tr>\n",
              "            <th>review</th> <th>sentiment</th> <th>classification</th>\n",
              "        </tr>\n",
              "    </thead>\n",
              "    <tbody>\n",
              "        <tr>\n",
              "            <td>This movie is horrible if you pay attention to it. It's  ...</td> <td>negative </td> <td>0             </td>\n",
              "        </tr>\n",
              "        <tr>\n",
              "            <td>Many times the description \"full of sound and fury signi ...</td> <td>negative </td> <td>0             </td>\n",
              "        </tr>\n",
              "        <tr>\n",
              "            <td>The comments already left for this show are way more fun ...</td> <td>negative </td> <td>0             </td>\n",
              "        </tr>\n",
              "        <tr>\n",
              "            <td>C.H.O.M.P.S. is very much like any number of cheesy late ...</td> <td>negative </td> <td>0             </td>\n",
              "        </tr>\n",
              "        <tr>\n",
              "            <td>I just couldn't stop laughing!! This movie is incredibly ...</td> <td>negative </td> <td>0             </td>\n",
              "        </tr>\n",
              "    </tbody>\n",
              "</table>\n",
              "<p>... (995 rows omitted)</p>"
            ]
          },
          "metadata": {}
        }
      ],
      "source": [
        "neg_reviews2 = neg_reviews.with_column(\"classification\", 0)\n",
        "neg_reviews2.show(5)"
      ]
    },
    {
      "cell_type": "markdown",
      "metadata": {
        "id": "0WYEK_QSVu_p"
      },
      "source": [
        "# Add the sampled positive reviews and the sampled negative reviews to form a labelled dataset.\n",
        "\n",
        "This dataset will be used in this project for creating and evaluating a Decision Tree for sentiment analysis."
      ]
    },
    {
      "cell_type": "code",
      "execution_count": 9,
      "metadata": {
        "id": "sDY1QDd497wz",
        "colab": {
          "base_uri": "https://localhost:8080/",
          "height": 235
        },
        "outputId": "922b84eb-621a-43bf-b7ad-616e66672e22"
      },
      "outputs": [
        {
          "output_type": "display_data",
          "data": {
            "text/plain": [
              "<IPython.core.display.HTML object>"
            ],
            "text/html": [
              "<table border=\"1\" class=\"dataframe\">\n",
              "    <thead>\n",
              "        <tr>\n",
              "            <th>review</th> <th>sentiment</th> <th>classification</th>\n",
              "        </tr>\n",
              "    </thead>\n",
              "    <tbody>\n",
              "        <tr>\n",
              "            <td>This is a fine drama and a nice change of pace from toda ...</td> <td>positive </td> <td>1             </td>\n",
              "        </tr>\n",
              "        <tr>\n",
              "            <td>I saw this Documentary at the Cannes Film Festival, in a ...</td> <td>positive </td> <td>1             </td>\n",
              "        </tr>\n",
              "        <tr>\n",
              "            <td>This movie surprised me. The box is misleading, the tagl ...</td> <td>positive </td> <td>1             </td>\n",
              "        </tr>\n",
              "        <tr>\n",
              "            <td>I just watched this film again and remain dismayed at th ...</td> <td>positive </td> <td>1             </td>\n",
              "        </tr>\n",
              "        <tr>\n",
              "            <td>PUBLIC ENEMIES is a kind of throw-back to those early 19 ...</td> <td>positive </td> <td>1             </td>\n",
              "        </tr>\n",
              "    </tbody>\n",
              "</table>\n",
              "<p>... (1995 rows omitted)</p>"
            ]
          },
          "metadata": {}
        }
      ],
      "source": [
        "data = pos_reviews2.append(neg_reviews2)\n",
        "data.show(5)"
      ]
    },
    {
      "cell_type": "markdown",
      "metadata": {
        "id": "mQq5gPdZWsss"
      },
      "source": [
        "Extract the review text (under the \"review\" column\") and the classification output (under the \"classification\" column) for constructing and evaluating decision trees.\n",
        "\n",
        "Total number of positive reviews and the total number of negative reviews can be printed."
      ]
    },
    {
      "cell_type": "code",
      "execution_count": 10,
      "metadata": {
        "id": "5drufUf84P49",
        "trusted": true,
        "colab": {
          "base_uri": "https://localhost:8080/"
        },
        "outputId": "6d3b88ce-b871-4d32-9ca5-d4e96153a9db"
      },
      "outputs": [
        {
          "output_type": "stream",
          "name": "stdout",
          "text": [
            "Data size: 2000\n",
            "Positive Data Size: 1000\n",
            "Negative Data Size: 1000\n"
          ]
        }
      ],
      "source": [
        "# Use the data for constructing a Decision Tree Classifier for Review Sentiment\n",
        "data_X = list(data['review'])\n",
        "data_Y = list(data['classification'])\n",
        "pos_count = data.where('classification', are.equal_to(1)).num_rows\n",
        "neg_count = data.where('classification', are.equal_to(0)).num_rows\n",
        "\n",
        "print('Data size:', len(data_X))\n",
        "print('Positive Data Size:', pos_count)\n",
        "print('Negative Data Size:', neg_count)"
      ]
    },
    {
      "cell_type": "markdown",
      "metadata": {
        "id": "TR1xuaD14P5F"
      },
      "source": [
        "### Stratified KFold Cross Validation\n",
        "StratifiedKFold is a function in sklearn under the submodule model_selection.\n",
        "#### Notice: In the beginning of this notebook, we import StratifiedKFold using the following python code:\n",
        "    from sklearn.model_selection import StratifiedKFold\n",
        "    \n",
        "The n_splits parameter of StratifiedKFold indicates how many folds to use.  For example,\n",
        "n_splits=5 means Stratified 5-fold cross validation.\n"
      ]
    },
    {
      "cell_type": "markdown",
      "metadata": {
        "id": "yFO61yvmXuVc"
      },
      "source": [
        "The following code to specifies the number of folds (i.e., k) in Stratified K-fold Cross Validation."
      ]
    },
    {
      "cell_type": "code",
      "execution_count": 11,
      "metadata": {
        "id": "KVF3Lb3Z4P5G",
        "trusted": true
      },
      "outputs": [],
      "source": [
        "# Use Stratified Kfold Cross Validation so that\n",
        "#   each fold contains the same ratio of positive/negative instances\n",
        "k = 10\n",
        "skf = StratifiedKFold(n_splits= k , random_state=120, shuffle=True)"
      ]
    },
    {
      "cell_type": "markdown",
      "metadata": {
        "id": "xpH8T9ZVYPIQ"
      },
      "source": [
        "The following code to specifies the range of max_depth for finding the best max_depth for a Decision Tree for Sentiment Classification of Movie Reviews."
      ]
    },
    {
      "cell_type": "code",
      "execution_count": 12,
      "metadata": {
        "id": "k7BwWJFS4P5W",
        "trusted": true
      },
      "outputs": [],
      "source": [
        "### Set the range of max_depth for finding the best max_depth for this problem\n",
        "low_max_depth = 2\n",
        "high_max_depth = 20\n",
        "training_performance_table = np.empty([high_max_depth + 1, k, 5])\n",
        "testing_performance_table = np.empty([high_max_depth + 1, k, 5])"
      ]
    },
    {
      "cell_type": "markdown",
      "metadata": {
        "id": "L4DWRju_aMnw"
      },
      "source": [
        "The code performs a k-fold cross-validation process to evaluate the performance of decision trees with varying depths on text data. Here's a step-by-step description of its functionality:\n",
        "\n",
        "1. **Text Transformation**: Converts review text in each fold into a word frequency matrix, representing the frequency of words in the reviews.\n",
        "\n",
        "2. **Decision Tree Creation**: Builds a decision tree for sentiment classification using the word frequency matrix of the training reviews and their corresponding sentiment labels.\n",
        "\n",
        "3. **Evaluation**: Assesses the decision tree's performance using the training data for the current fold.\n",
        "\n",
        "4. **Cross-Validation Loop**: Repeats the above steps for each fold (`k` times) to ensure robust evaluation across all subsets of the data.\n",
        "\n",
        "5. **Depth Variation**: Repeats the entire k-fold cross-validation process for each value of `max_depth`, ranging from `low_max_depth` to `high_max_depth`.\n",
        "\n",
        "The purpose of this approach is to systematically evaluate how the decision tree's performance changes with its depth and ensure consistent evaluation using cross-validation."
      ]
    },
    {
      "cell_type": "code",
      "execution_count": 14,
      "metadata": {
        "id": "7yFQke9E4P5l",
        "trusted": true,
        "colab": {
          "base_uri": "https://localhost:8080/"
        },
        "outputId": "fa94550c-fff2-46a3-ec3b-2f38ff0ccdbb"
      },
      "outputs": [
        {
          "output_type": "stream",
          "name": "stdout",
          "text": [
            "Fold Number: 0\n",
            "Max depth is 2 Prediction Performance for Training Data f1: 0.3840749414519906\n",
            "Prediction Performance for Testing Data f1:  0.3458646616541353\n",
            "Fold Number: 1\n",
            "Max depth is 2 Prediction Performance for Training Data f1: 0.38461538461538464\n",
            "Prediction Performance for Testing Data f1:  0.34285714285714286\n",
            "Fold Number: 2\n",
            "Max depth is 2 Prediction Performance for Training Data f1: 0.27886323268206037\n",
            "Prediction Performance for Testing Data f1:  0.3971631205673759\n",
            "Fold Number: 3\n",
            "Max depth is 2 Prediction Performance for Training Data f1: 0.39039504260263364\n",
            "Prediction Performance for Testing Data f1:  0.3973509933774834\n",
            "Fold Number: 4\n",
            "Max depth is 2 Prediction Performance for Training Data f1: 0.3898695318495779\n",
            "Prediction Performance for Testing Data f1:  0.4166666666666667\n",
            "Fold Number: 5\n",
            "Max depth is 2 Prediction Performance for Training Data f1: 0.3877551020408163\n",
            "Prediction Performance for Testing Data f1:  0.3142857142857143\n",
            "Fold Number: 6\n",
            "Max depth is 2 Prediction Performance for Training Data f1: 0.40427154843630814\n",
            "Prediction Performance for Testing Data f1:  0.27941176470588236\n",
            "Fold Number: 7\n",
            "Max depth is 2 Prediction Performance for Training Data f1: 0.3811764705882353\n",
            "Prediction Performance for Testing Data f1:  0.37410071942446044\n",
            "Fold Number: 8\n",
            "Max depth is 2 Prediction Performance for Training Data f1: 0.39236641221374047\n",
            "Prediction Performance for Testing Data f1:  0.3829787234042553\n",
            "Fold Number: 9\n",
            "Max depth is 2 Prediction Performance for Training Data f1: 0.39107005388760585\n",
            "Prediction Performance for Testing Data f1:  0.40540540540540543\n",
            "Fold Number: 0\n",
            "Max depth is 3 Prediction Performance for Training Data f1: 0.5519713261648745\n",
            "Prediction Performance for Testing Data f1:  0.48\n",
            "Fold Number: 1\n",
            "Max depth is 3 Prediction Performance for Training Data f1: 0.6430868167202572\n",
            "Prediction Performance for Testing Data f1:  0.6033057851239669\n",
            "Fold Number: 2\n",
            "Max depth is 3 Prediction Performance for Training Data f1: 0.42729970326409494\n",
            "Prediction Performance for Testing Data f1:  0.49696969696969695\n",
            "Fold Number: 3\n",
            "Max depth is 3 Prediction Performance for Training Data f1: 0.39039504260263364\n",
            "Prediction Performance for Testing Data f1:  0.3973509933774834\n",
            "Fold Number: 4\n",
            "Max depth is 3 Prediction Performance for Training Data f1: 0.525\n",
            "Prediction Performance for Testing Data f1:  0.47058823529411764\n",
            "Fold Number: 5\n",
            "Max depth is 3 Prediction Performance for Training Data f1: 0.5585264408793821\n",
            "Prediction Performance for Testing Data f1:  0.5026178010471204\n",
            "Fold Number: 6\n",
            "Max depth is 3 Prediction Performance for Training Data f1: 0.39215686274509803\n",
            "Prediction Performance for Testing Data f1:  0.2814814814814815\n",
            "Fold Number: 7\n",
            "Max depth is 3 Prediction Performance for Training Data f1: 0.39316239316239315\n",
            "Prediction Performance for Testing Data f1:  0.39436619718309857\n",
            "Fold Number: 8\n",
            "Max depth is 3 Prediction Performance for Training Data f1: 0.39293937068303914\n",
            "Prediction Performance for Testing Data f1:  0.38571428571428573\n",
            "Fold Number: 9\n",
            "Max depth is 3 Prediction Performance for Training Data f1: 0.3807266982622433\n",
            "Prediction Performance for Testing Data f1:  0.3888888888888889\n",
            "Fold Number: 0\n",
            "Max depth is 4 Prediction Performance for Training Data f1: 0.5558876270173342\n",
            "Prediction Performance for Testing Data f1:  0.48863636363636365\n",
            "Fold Number: 1\n",
            "Max depth is 4 Prediction Performance for Training Data f1: 0.5340314136125655\n",
            "Prediction Performance for Testing Data f1:  0.45348837209302323\n",
            "Fold Number: 2\n",
            "Max depth is 4 Prediction Performance for Training Data f1: 0.5077026121902211\n",
            "Prediction Performance for Testing Data f1:  0.4578313253012048\n",
            "Fold Number: 3\n",
            "Max depth is 4 Prediction Performance for Training Data f1: 0.5223097112860893\n",
            "Prediction Performance for Testing Data f1:  0.4606741573033708\n",
            "Fold Number: 4\n",
            "Max depth is 4 Prediction Performance for Training Data f1: 0.5361216730038023\n",
            "Prediction Performance for Testing Data f1:  0.5317919075144508\n",
            "Fold Number: 5\n",
            "Max depth is 4 Prediction Performance for Training Data f1: 0.5826036193812025\n",
            "Prediction Performance for Testing Data f1:  0.4717948717948718\n",
            "Fold Number: 6\n",
            "Max depth is 4 Prediction Performance for Training Data f1: 0.523117569352708\n",
            "Prediction Performance for Testing Data f1:  0.41025641025641024\n",
            "Fold Number: 7\n",
            "Max depth is 4 Prediction Performance for Training Data f1: 0.643855421686747\n",
            "Prediction Performance for Testing Data f1:  0.6\n",
            "Fold Number: 8\n",
            "Max depth is 4 Prediction Performance for Training Data f1: 0.5168393782383419\n",
            "Prediction Performance for Testing Data f1:  0.48484848484848486\n",
            "Fold Number: 9\n",
            "Max depth is 4 Prediction Performance for Training Data f1: 0.5126162018592297\n",
            "Prediction Performance for Testing Data f1:  0.5176470588235295\n",
            "Fold Number: 0\n",
            "Max depth is 5 Prediction Performance for Training Data f1: 0.4699927693420101\n",
            "Prediction Performance for Testing Data f1:  0.4027777777777778\n",
            "Fold Number: 1\n",
            "Max depth is 5 Prediction Performance for Training Data f1: 0.5468852459016393\n",
            "Prediction Performance for Testing Data f1:  0.4678362573099415\n",
            "Fold Number: 2\n",
            "Max depth is 5 Prediction Performance for Training Data f1: 0.4899713467048711\n",
            "Prediction Performance for Testing Data f1:  0.4939759036144578\n",
            "Fold Number: 3\n",
            "Max depth is 5 Prediction Performance for Training Data f1: 0.5977945443993036\n",
            "Prediction Performance for Testing Data f1:  0.5544554455445545\n",
            "Fold Number: 4\n",
            "Max depth is 5 Prediction Performance for Training Data f1: 0.5500322788896062\n",
            "Prediction Performance for Testing Data f1:  0.425\n",
            "Fold Number: 5\n",
            "Max depth is 5 Prediction Performance for Training Data f1: 0.5936599423631124\n",
            "Prediction Performance for Testing Data f1:  0.494949494949495\n",
            "Fold Number: 6\n",
            "Max depth is 5 Prediction Performance for Training Data f1: 0.5182186234817814\n",
            "Prediction Performance for Testing Data f1:  0.39215686274509803\n",
            "Fold Number: 7\n",
            "Max depth is 5 Prediction Performance for Training Data f1: 0.5418848167539267\n",
            "Prediction Performance for Testing Data f1:  0.49122807017543857\n",
            "Fold Number: 8\n",
            "Max depth is 5 Prediction Performance for Training Data f1: 0.5342729019859065\n",
            "Prediction Performance for Testing Data f1:  0.4819277108433735\n",
            "Fold Number: 9\n",
            "Max depth is 5 Prediction Performance for Training Data f1: 0.5144005358338914\n",
            "Prediction Performance for Testing Data f1:  0.5088757396449705\n",
            "Fold Number: 0\n",
            "Max depth is 6 Prediction Performance for Training Data f1: 0.4960346070656092\n",
            "Prediction Performance for Testing Data f1:  0.3841059602649007\n",
            "Fold Number: 1\n",
            "Max depth is 6 Prediction Performance for Training Data f1: 0.53276955602537\n",
            "Prediction Performance for Testing Data f1:  0.358974358974359\n",
            "Fold Number: 2\n",
            "Max depth is 6 Prediction Performance for Training Data f1: 0.5331510594668489\n",
            "Prediction Performance for Testing Data f1:  0.49122807017543857\n",
            "Fold Number: 3\n",
            "Max depth is 6 Prediction Performance for Training Data f1: 0.6299659477866061\n",
            "Prediction Performance for Testing Data f1:  0.45685279187817257\n",
            "Fold Number: 4\n",
            "Max depth is 6 Prediction Performance for Training Data f1: 0.5726872246696035\n",
            "Prediction Performance for Testing Data f1:  0.45121951219512196\n",
            "Fold Number: 5\n",
            "Max depth is 6 Prediction Performance for Training Data f1: 0.5914445133292002\n",
            "Prediction Performance for Testing Data f1:  0.4385026737967914\n",
            "Fold Number: 6\n",
            "Max depth is 6 Prediction Performance for Training Data f1: 0.6340179041600843\n",
            "Prediction Performance for Testing Data f1:  0.5392156862745098\n",
            "Fold Number: 7\n",
            "Max depth is 6 Prediction Performance for Training Data f1: 0.6130177514792899\n",
            "Prediction Performance for Testing Data f1:  0.5608465608465608\n",
            "Fold Number: 8\n",
            "Max depth is 6 Prediction Performance for Training Data f1: 0.4989488437281009\n",
            "Prediction Performance for Testing Data f1:  0.35526315789473684\n",
            "Fold Number: 9\n",
            "Max depth is 6 Prediction Performance for Training Data f1: 0.6133786848072562\n",
            "Prediction Performance for Testing Data f1:  0.48756218905472637\n",
            "Fold Number: 0\n",
            "Max depth is 7 Prediction Performance for Training Data f1: 0.5242857142857142\n",
            "Prediction Performance for Testing Data f1:  0.37333333333333335\n",
            "Fold Number: 1\n",
            "Max depth is 7 Prediction Performance for Training Data f1: 0.531437125748503\n",
            "Prediction Performance for Testing Data f1:  0.2916666666666667\n",
            "Fold Number: 2\n",
            "Max depth is 7 Prediction Performance for Training Data f1: 0.6290516206482593\n",
            "Prediction Performance for Testing Data f1:  0.5628140703517588\n",
            "Fold Number: 3\n",
            "Max depth is 7 Prediction Performance for Training Data f1: 0.6730259671436142\n",
            "Prediction Performance for Testing Data f1:  0.5258215962441315\n",
            "Fold Number: 4\n",
            "Max depth is 7 Prediction Performance for Training Data f1: 0.6065773447015834\n",
            "Prediction Performance for Testing Data f1:  0.4772727272727273\n",
            "Fold Number: 5\n",
            "Max depth is 7 Prediction Performance for Training Data f1: 0.6012578616352201\n",
            "Prediction Performance for Testing Data f1:  0.42391304347826086\n",
            "Fold Number: 6\n",
            "Max depth is 7 Prediction Performance for Training Data f1: 0.6156562683931724\n",
            "Prediction Performance for Testing Data f1:  0.4685714285714286\n",
            "Fold Number: 7\n",
            "Max depth is 7 Prediction Performance for Training Data f1: 0.6175395858708892\n",
            "Prediction Performance for Testing Data f1:  0.5934065934065934\n",
            "Fold Number: 8\n",
            "Max depth is 7 Prediction Performance for Training Data f1: 0.587724736515809\n",
            "Prediction Performance for Testing Data f1:  0.4685714285714286\n",
            "Fold Number: 9\n",
            "Max depth is 7 Prediction Performance for Training Data f1: 0.6257449344457687\n",
            "Prediction Performance for Testing Data f1:  0.5245901639344263\n",
            "Fold Number: 0\n",
            "Max depth is 8 Prediction Performance for Training Data f1: 0.6506811989100817\n",
            "Prediction Performance for Testing Data f1:  0.49\n",
            "Fold Number: 1\n",
            "Max depth is 8 Prediction Performance for Training Data f1: 0.6253164556962025\n",
            "Prediction Performance for Testing Data f1:  0.38095238095238093\n",
            "Fold Number: 2\n",
            "Max depth is 8 Prediction Performance for Training Data f1: 0.6829268292682927\n",
            "Prediction Performance for Testing Data f1:  0.5333333333333333\n",
            "Fold Number: 3\n",
            "Max depth is 8 Prediction Performance for Training Data f1: 0.6709753231492362\n",
            "Prediction Performance for Testing Data f1:  0.4607329842931937\n",
            "Fold Number: 4\n",
            "Max depth is 8 Prediction Performance for Training Data f1: 0.6108626198083067\n",
            "Prediction Performance for Testing Data f1:  0.4431137724550898\n",
            "Fold Number: 5\n",
            "Max depth is 8 Prediction Performance for Training Data f1: 0.6072565245066837\n",
            "Prediction Performance for Testing Data f1:  0.4157303370786517\n",
            "Fold Number: 6\n",
            "Max depth is 8 Prediction Performance for Training Data f1: 0.629080118694362\n",
            "Prediction Performance for Testing Data f1:  0.49162011173184356\n",
            "Fold Number: 7\n",
            "Max depth is 8 Prediction Performance for Training Data f1: 0.6628175519630485\n",
            "Prediction Performance for Testing Data f1:  0.5670103092783505\n",
            "Fold Number: 8\n",
            "Max depth is 8 Prediction Performance for Training Data f1: 0.5842696629213483\n",
            "Prediction Performance for Testing Data f1:  0.39751552795031053\n",
            "Fold Number: 9\n",
            "Max depth is 8 Prediction Performance for Training Data f1: 0.693565976008724\n",
            "Prediction Performance for Testing Data f1:  0.4512820512820513\n",
            "Fold Number: 0\n",
            "Max depth is 9 Prediction Performance for Training Data f1: 0.6626898047722343\n",
            "Prediction Performance for Testing Data f1:  0.49504950495049505\n",
            "Fold Number: 1\n",
            "Max depth is 9 Prediction Performance for Training Data f1: 0.6236711552090716\n",
            "Prediction Performance for Testing Data f1:  0.36363636363636365\n",
            "Fold Number: 2\n",
            "Max depth is 9 Prediction Performance for Training Data f1: 0.6926303175554224\n",
            "Prediction Performance for Testing Data f1:  0.5376344086021505\n",
            "Fold Number: 3\n",
            "Max depth is 9 Prediction Performance for Training Data f1: 0.7057484348321001\n",
            "Prediction Performance for Testing Data f1:  0.4729064039408867\n",
            "Fold Number: 4\n",
            "Max depth is 9 Prediction Performance for Training Data f1: 0.7249283667621776\n",
            "Prediction Performance for Testing Data f1:  0.62882096069869\n",
            "Fold Number: 5\n",
            "Max depth is 9 Prediction Performance for Training Data f1: 0.6408977556109726\n",
            "Prediction Performance for Testing Data f1:  0.4648648648648649\n",
            "Fold Number: 6\n",
            "Max depth is 9 Prediction Performance for Training Data f1: 0.6365348399246704\n",
            "Prediction Performance for Testing Data f1:  0.5058823529411764\n",
            "Fold Number: 7\n",
            "Max depth is 9 Prediction Performance for Training Data f1: 0.7294238683127572\n",
            "Prediction Performance for Testing Data f1:  0.5865384615384616\n",
            "Fold Number: 8\n",
            "Max depth is 9 Prediction Performance for Training Data f1: 0.6581096849474912\n",
            "Prediction Performance for Testing Data f1:  0.46236559139784944\n",
            "Fold Number: 9\n",
            "Max depth is 9 Prediction Performance for Training Data f1: 0.6902336728579987\n",
            "Prediction Performance for Testing Data f1:  0.5056179775280899\n",
            "Fold Number: 0\n",
            "Max depth is 10 Prediction Performance for Training Data f1: 0.622568093385214\n",
            "Prediction Performance for Testing Data f1:  0.389937106918239\n",
            "Fold Number: 1\n",
            "Max depth is 10 Prediction Performance for Training Data f1: 0.7030378177309361\n",
            "Prediction Performance for Testing Data f1:  0.45652173913043476\n",
            "Fold Number: 2\n",
            "Max depth is 10 Prediction Performance for Training Data f1: 0.7242647058823529\n",
            "Prediction Performance for Testing Data f1:  0.5142857142857142\n",
            "Fold Number: 3\n",
            "Max depth is 10 Prediction Performance for Training Data f1: 0.7586580086580087\n",
            "Prediction Performance for Testing Data f1:  0.5025125628140703\n",
            "Fold Number: 4\n",
            "Max depth is 10 Prediction Performance for Training Data f1: 0.6997635933806147\n",
            "Prediction Performance for Testing Data f1:  0.5714285714285714\n",
            "Fold Number: 5\n",
            "Max depth is 10 Prediction Performance for Training Data f1: 0.727751448130595\n",
            "Prediction Performance for Testing Data f1:  0.5381165919282511\n",
            "Fold Number: 6\n",
            "Max depth is 10 Prediction Performance for Training Data f1: 0.6714888487040386\n",
            "Prediction Performance for Testing Data f1:  0.49710982658959535\n",
            "Fold Number: 7\n",
            "Max depth is 10 Prediction Performance for Training Data f1: 0.7475935828877005\n",
            "Prediction Performance for Testing Data f1:  0.5825242718446602\n",
            "Fold Number: 8\n",
            "Max depth is 10 Prediction Performance for Training Data f1: 0.7133087848500789\n",
            "Prediction Performance for Testing Data f1:  0.5294117647058824\n",
            "Fold Number: 9\n",
            "Max depth is 10 Prediction Performance for Training Data f1: 0.735632183908046\n",
            "Prediction Performance for Testing Data f1:  0.5185185185185185\n",
            "Fold Number: 0\n",
            "Max depth is 11 Prediction Performance for Training Data f1: 0.7101449275362319\n",
            "Prediction Performance for Testing Data f1:  0.5136612021857924\n",
            "Fold Number: 1\n",
            "Max depth is 11 Prediction Performance for Training Data f1: 0.731829573934837\n",
            "Prediction Performance for Testing Data f1:  0.4919786096256685\n",
            "Fold Number: 2\n",
            "Max depth is 11 Prediction Performance for Training Data f1: 0.7588695129284426\n",
            "Prediction Performance for Testing Data f1:  0.4972375690607735\n",
            "Fold Number: 3\n",
            "Max depth is 11 Prediction Performance for Training Data f1: 0.7868480725623582\n",
            "Prediction Performance for Testing Data f1:  0.43523316062176165\n",
            "Fold Number: 4\n",
            "Max depth is 11 Prediction Performance for Training Data f1: 0.7283726557773744\n",
            "Prediction Performance for Testing Data f1:  0.5666666666666667\n",
            "Fold Number: 5\n",
            "Max depth is 11 Prediction Performance for Training Data f1: 0.7487520798668885\n",
            "Prediction Performance for Testing Data f1:  0.5576923076923077\n",
            "Fold Number: 6\n",
            "Max depth is 11 Prediction Performance for Training Data f1: 0.7167630057803468\n",
            "Prediction Performance for Testing Data f1:  0.5423728813559322\n",
            "Fold Number: 7\n",
            "Max depth is 11 Prediction Performance for Training Data f1: 0.7759446514103246\n",
            "Prediction Performance for Testing Data f1:  0.5555555555555556\n",
            "Fold Number: 8\n",
            "Max depth is 11 Prediction Performance for Training Data f1: 0.7136929460580913\n",
            "Prediction Performance for Testing Data f1:  0.4731182795698925\n",
            "Fold Number: 9\n",
            "Max depth is 11 Prediction Performance for Training Data f1: 0.7598355842630652\n",
            "Prediction Performance for Testing Data f1:  0.5408163265306123\n",
            "Fold Number: 0\n",
            "Max depth is 12 Prediction Performance for Training Data f1: 0.7358490566037735\n",
            "Prediction Performance for Testing Data f1:  0.4835164835164835\n",
            "Fold Number: 1\n",
            "Max depth is 12 Prediction Performance for Training Data f1: 0.7947019867549668\n",
            "Prediction Performance for Testing Data f1:  0.4830917874396135\n",
            "Fold Number: 2\n",
            "Max depth is 12 Prediction Performance for Training Data f1: 0.7890909090909091\n",
            "Prediction Performance for Testing Data f1:  0.5454545454545454\n",
            "Fold Number: 3\n",
            "Max depth is 12 Prediction Performance for Training Data f1: 0.814773980154355\n",
            "Prediction Performance for Testing Data f1:  0.45595854922279794\n",
            "Fold Number: 4\n",
            "Max depth is 12 Prediction Performance for Training Data f1: 0.7633313361294188\n",
            "Prediction Performance for Testing Data f1:  0.5913978494623656\n",
            "Fold Number: 5\n",
            "Max depth is 12 Prediction Performance for Training Data f1: 0.7714932126696833\n",
            "Prediction Performance for Testing Data f1:  0.541871921182266\n",
            "Fold Number: 6\n",
            "Max depth is 12 Prediction Performance for Training Data f1: 0.7384799521244764\n",
            "Prediction Performance for Testing Data f1:  0.4939759036144578\n",
            "Fold Number: 7\n",
            "Max depth is 12 Prediction Performance for Training Data f1: 0.7916666666666666\n",
            "Prediction Performance for Testing Data f1:  0.5989304812834224\n",
            "Fold Number: 8\n",
            "Max depth is 12 Prediction Performance for Training Data f1: 0.7681318681318682\n",
            "Prediction Performance for Testing Data f1:  0.5472636815920398\n",
            "Fold Number: 9\n",
            "Max depth is 12 Prediction Performance for Training Data f1: 0.7761377613776138\n",
            "Prediction Performance for Testing Data f1:  0.4692737430167598\n",
            "Fold Number: 0\n",
            "Max depth is 13 Prediction Performance for Training Data f1: 0.7467124070897656\n",
            "Prediction Performance for Testing Data f1:  0.47126436781609193\n",
            "Fold Number: 1\n",
            "Max depth is 13 Prediction Performance for Training Data f1: 0.8028251912889935\n",
            "Prediction Performance for Testing Data f1:  0.47\n",
            "Fold Number: 2\n",
            "Max depth is 13 Prediction Performance for Training Data f1: 0.8290788013318535\n",
            "Prediction Performance for Testing Data f1:  0.5177664974619289\n",
            "Fold Number: 3\n",
            "Max depth is 13 Prediction Performance for Training Data f1: 0.8347010550996483\n",
            "Prediction Performance for Testing Data f1:  0.43956043956043955\n",
            "Fold Number: 4\n",
            "Max depth is 13 Prediction Performance for Training Data f1: 0.788782816229117\n",
            "Prediction Performance for Testing Data f1:  0.5502645502645502\n",
            "Fold Number: 5\n",
            "Max depth is 13 Prediction Performance for Training Data f1: 0.7979568671963677\n",
            "Prediction Performance for Testing Data f1:  0.5230769230769231\n",
            "Fold Number: 6\n",
            "Max depth is 13 Prediction Performance for Training Data f1: 0.7710989678202793\n",
            "Prediction Performance for Testing Data f1:  0.5454545454545454\n",
            "Fold Number: 7\n",
            "Max depth is 13 Prediction Performance for Training Data f1: 0.8395196506550219\n",
            "Prediction Performance for Testing Data f1:  0.5482233502538071\n",
            "Fold Number: 8\n",
            "Max depth is 13 Prediction Performance for Training Data f1: 0.8052219321148825\n",
            "Prediction Performance for Testing Data f1:  0.526829268292683\n",
            "Fold Number: 9\n",
            "Max depth is 13 Prediction Performance for Training Data f1: 0.8155904595695171\n",
            "Prediction Performance for Testing Data f1:  0.5445544554455446\n",
            "Fold Number: 0\n",
            "Max depth is 14 Prediction Performance for Training Data f1: 0.7822626492325184\n",
            "Prediction Performance for Testing Data f1:  0.44047619047619047\n",
            "Fold Number: 1\n",
            "Max depth is 14 Prediction Performance for Training Data f1: 0.842809364548495\n",
            "Prediction Performance for Testing Data f1:  0.43564356435643564\n",
            "Fold Number: 2\n",
            "Max depth is 14 Prediction Performance for Training Data f1: 0.8550479413423576\n",
            "Prediction Performance for Testing Data f1:  0.5052631578947369\n",
            "Fold Number: 3\n",
            "Max depth is 14 Prediction Performance for Training Data f1: 0.8526499708794408\n",
            "Prediction Performance for Testing Data f1:  0.46994535519125685\n",
            "Fold Number: 4\n",
            "Max depth is 14 Prediction Performance for Training Data f1: 0.8157589803012746\n",
            "Prediction Performance for Testing Data f1:  0.5641025641025641\n",
            "Fold Number: 5\n",
            "Max depth is 14 Prediction Performance for Training Data f1: 0.8142610695802185\n",
            "Prediction Performance for Testing Data f1:  0.5346534653465347\n",
            "Fold Number: 6\n",
            "Max depth is 14 Prediction Performance for Training Data f1: 0.802937576499388\n",
            "Prediction Performance for Testing Data f1:  0.5698324022346368\n",
            "Fold Number: 7\n",
            "Max depth is 14 Prediction Performance for Training Data f1: 0.8565145684442002\n",
            "Prediction Performance for Testing Data f1:  0.58\n",
            "Fold Number: 8\n",
            "Max depth is 14 Prediction Performance for Training Data f1: 0.8406708595387841\n",
            "Prediction Performance for Testing Data f1:  0.5308056872037915\n",
            "Fold Number: 9\n",
            "Max depth is 14 Prediction Performance for Training Data f1: 0.8272506082725061\n",
            "Prediction Performance for Testing Data f1:  0.4895833333333333\n",
            "Fold Number: 0\n",
            "Max depth is 15 Prediction Performance for Training Data f1: 0.7952238805970149\n",
            "Prediction Performance for Testing Data f1:  0.47560975609756095\n",
            "Fold Number: 1\n",
            "Max depth is 15 Prediction Performance for Training Data f1: 0.8688888888888889\n",
            "Prediction Performance for Testing Data f1:  0.49760765550239233\n",
            "Fold Number: 2\n",
            "Max depth is 15 Prediction Performance for Training Data f1: 0.8736616702355461\n",
            "Prediction Performance for Testing Data f1:  0.4873096446700508\n",
            "Fold Number: 3\n",
            "Max depth is 15 Prediction Performance for Training Data f1: 0.8719475878499107\n",
            "Prediction Performance for Testing Data f1:  0.4756756756756757\n",
            "Fold Number: 4\n",
            "Max depth is 15 Prediction Performance for Training Data f1: 0.8445623342175066\n",
            "Prediction Performance for Testing Data f1:  0.580952380952381\n",
            "Fold Number: 5\n",
            "Max depth is 15 Prediction Performance for Training Data f1: 0.8395904436860068\n",
            "Prediction Performance for Testing Data f1:  0.5154639175257731\n",
            "Fold Number: 6\n",
            "Max depth is 15 Prediction Performance for Training Data f1: 0.8381742738589212\n",
            "Prediction Performance for Testing Data f1:  0.550561797752809\n",
            "Fold Number: 7\n",
            "Max depth is 15 Prediction Performance for Training Data f1: 0.8709494030699261\n",
            "Prediction Performance for Testing Data f1:  0.5699481865284974\n",
            "Fold Number: 8\n",
            "Max depth is 15 Prediction Performance for Training Data f1: 0.8579175704989154\n",
            "Prediction Performance for Testing Data f1:  0.53\n",
            "Fold Number: 9\n",
            "Max depth is 15 Prediction Performance for Training Data f1: 0.8582811610700057\n",
            "Prediction Performance for Testing Data f1:  0.5263157894736842\n",
            "Fold Number: 0\n",
            "Max depth is 16 Prediction Performance for Training Data f1: 0.8221709006928406\n",
            "Prediction Performance for Testing Data f1:  0.44047619047619047\n",
            "Fold Number: 1\n",
            "Max depth is 16 Prediction Performance for Training Data f1: 0.8765652951699463\n",
            "Prediction Performance for Testing Data f1:  0.42391304347826086\n",
            "Fold Number: 2\n",
            "Max depth is 16 Prediction Performance for Training Data f1: 0.8877721943048577\n",
            "Prediction Performance for Testing Data f1:  0.5235602094240838\n",
            "Fold Number: 3\n",
            "Max depth is 16 Prediction Performance for Training Data f1: 0.8900709219858156\n",
            "Prediction Performance for Testing Data f1:  0.45161290322580644\n",
            "Fold Number: 4\n",
            "Max depth is 16 Prediction Performance for Training Data f1: 0.8647398843930636\n",
            "Prediction Performance for Testing Data f1:  0.49746192893401014\n",
            "Fold Number: 5\n",
            "Max depth is 16 Prediction Performance for Training Data f1: 0.8515309069901791\n",
            "Prediction Performance for Testing Data f1:  0.4816753926701571\n",
            "Fold Number: 6\n",
            "Max depth is 16 Prediction Performance for Training Data f1: 0.851738865161684\n",
            "Prediction Performance for Testing Data f1:  0.5393258426966292\n",
            "Fold Number: 7\n",
            "Max depth is 16 Prediction Performance for Training Data f1: 0.8897593732512591\n",
            "Prediction Performance for Testing Data f1:  0.53125\n",
            "Fold Number: 8\n",
            "Max depth is 16 Prediction Performance for Training Data f1: 0.8808123997862106\n",
            "Prediction Performance for Testing Data f1:  0.5252525252525253\n",
            "Fold Number: 9\n",
            "Max depth is 16 Prediction Performance for Training Data f1: 0.8751472320376914\n",
            "Prediction Performance for Testing Data f1:  0.47715736040609136\n",
            "Fold Number: 0\n",
            "Max depth is 17 Prediction Performance for Training Data f1: 0.8315018315018315\n",
            "Prediction Performance for Testing Data f1:  0.4121212121212121\n",
            "Fold Number: 1\n",
            "Max depth is 17 Prediction Performance for Training Data f1: 0.8953488372093024\n",
            "Prediction Performance for Testing Data f1:  0.47474747474747475\n",
            "Fold Number: 2\n",
            "Max depth is 17 Prediction Performance for Training Data f1: 0.9063711911357341\n",
            "Prediction Performance for Testing Data f1:  0.5104166666666666\n",
            "Fold Number: 3\n",
            "Max depth is 17 Prediction Performance for Training Data f1: 0.9015240328253223\n",
            "Prediction Performance for Testing Data f1:  0.5\n",
            "Fold Number: 4\n",
            "Max depth is 17 Prediction Performance for Training Data f1: 0.8910112359550562\n",
            "Prediction Performance for Testing Data f1:  0.5326633165829145\n",
            "Fold Number: 5\n",
            "Max depth is 17 Prediction Performance for Training Data f1: 0.8715596330275229\n",
            "Prediction Performance for Testing Data f1:  0.5235602094240838\n",
            "Fold Number: 6\n",
            "Max depth is 17 Prediction Performance for Training Data f1: 0.8775757575757576\n",
            "Prediction Performance for Testing Data f1:  0.5568181818181818\n",
            "Fold Number: 7\n",
            "Max depth is 17 Prediction Performance for Training Data f1: 0.9086678301337987\n",
            "Prediction Performance for Testing Data f1:  0.5803108808290155\n",
            "Fold Number: 8\n",
            "Max depth is 17 Prediction Performance for Training Data f1: 0.8930885529157667\n",
            "Prediction Performance for Testing Data f1:  0.49230769230769234\n",
            "Fold Number: 9\n",
            "Max depth is 17 Prediction Performance for Training Data f1: 0.8795686039544638\n",
            "Prediction Performance for Testing Data f1:  0.5230769230769231\n",
            "Fold Number: 0\n",
            "Max depth is 18 Prediction Performance for Training Data f1: 0.8523002421307506\n",
            "Prediction Performance for Testing Data f1:  0.4444444444444444\n",
            "Fold Number: 1\n",
            "Max depth is 18 Prediction Performance for Training Data f1: 0.9093023255813953\n",
            "Prediction Performance for Testing Data f1:  0.45685279187817257\n",
            "Fold Number: 2\n",
            "Max depth is 18 Prediction Performance for Training Data f1: 0.9129164231443601\n",
            "Prediction Performance for Testing Data f1:  0.5425531914893617\n",
            "Fold Number: 3\n",
            "Max depth is 18 Prediction Performance for Training Data f1: 0.9124260355029585\n",
            "Prediction Performance for Testing Data f1:  0.44565217391304346\n",
            "Fold Number: 4\n",
            "Max depth is 18 Prediction Performance for Training Data f1: 0.898005698005698\n",
            "Prediction Performance for Testing Data f1:  0.4895833333333333\n",
            "Fold Number: 5\n",
            "Max depth is 18 Prediction Performance for Training Data f1: 0.8886337543053962\n",
            "Prediction Performance for Testing Data f1:  0.4717948717948718\n",
            "Fold Number: 6\n",
            "Max depth is 18 Prediction Performance for Training Data f1: 0.9019607843137255\n",
            "Prediction Performance for Testing Data f1:  0.5297297297297298\n",
            "Fold Number: 7\n",
            "Max depth is 18 Prediction Performance for Training Data f1: 0.9264214046822743\n",
            "Prediction Performance for Testing Data f1:  0.5405405405405406\n",
            "Fold Number: 8\n",
            "Max depth is 18 Prediction Performance for Training Data f1: 0.9052863436123348\n",
            "Prediction Performance for Testing Data f1:  0.5252525252525253\n",
            "Fold Number: 9\n",
            "Max depth is 18 Prediction Performance for Training Data f1: 0.9017660044150111\n",
            "Prediction Performance for Testing Data f1:  0.5377358490566038\n",
            "Fold Number: 0\n",
            "Max depth is 19 Prediction Performance for Training Data f1: 0.8686131386861314\n",
            "Prediction Performance for Testing Data f1:  0.39490445859872614\n",
            "Fold Number: 1\n",
            "Max depth is 19 Prediction Performance for Training Data f1: 0.9226225634967513\n",
            "Prediction Performance for Testing Data f1:  0.4583333333333333\n",
            "Fold Number: 2\n",
            "Max depth is 19 Prediction Performance for Training Data f1: 0.926632004621606\n",
            "Prediction Performance for Testing Data f1:  0.5555555555555556\n",
            "Fold Number: 3\n",
            "Max depth is 19 Prediction Performance for Training Data f1: 0.9238875878220141\n",
            "Prediction Performance for Testing Data f1:  0.4371584699453552\n",
            "Fold Number: 4\n",
            "Max depth is 19 Prediction Performance for Training Data f1: 0.9124004550625711\n",
            "Prediction Performance for Testing Data f1:  0.5025641025641026\n",
            "Fold Number: 5\n",
            "Max depth is 19 Prediction Performance for Training Data f1: 0.8974069898534386\n",
            "Prediction Performance for Testing Data f1:  0.5\n",
            "Fold Number: 6\n",
            "Max depth is 19 Prediction Performance for Training Data f1: 0.9146482122260668\n",
            "Prediction Performance for Testing Data f1:  0.5340314136125655\n",
            "Fold Number: 7\n",
            "Max depth is 19 Prediction Performance for Training Data f1: 0.9407069555302167\n",
            "Prediction Performance for Testing Data f1:  0.5408163265306123\n",
            "Fold Number: 8\n",
            "Max depth is 19 Prediction Performance for Training Data f1: 0.9131378935939196\n",
            "Prediction Performance for Testing Data f1:  0.47668393782383417\n",
            "Fold Number: 9\n",
            "Max depth is 19 Prediction Performance for Training Data f1: 0.9056603773584906\n",
            "Prediction Performance for Testing Data f1:  0.5120772946859904\n",
            "Fold Number: 0\n",
            "Max depth is 20 Prediction Performance for Training Data f1: 0.8860465116279069\n",
            "Prediction Performance for Testing Data f1:  0.4624277456647399\n",
            "Fold Number: 1\n",
            "Max depth is 20 Prediction Performance for Training Data f1: 0.9329446064139941\n",
            "Prediction Performance for Testing Data f1:  0.49504950495049505\n",
            "Fold Number: 2\n",
            "Max depth is 20 Prediction Performance for Training Data f1: 0.9340909090909091\n",
            "Prediction Performance for Testing Data f1:  0.5161290322580645\n",
            "Fold Number: 3\n",
            "Max depth is 20 Prediction Performance for Training Data f1: 0.9251620506776664\n",
            "Prediction Performance for Testing Data f1:  0.47058823529411764\n",
            "Fold Number: 4\n",
            "Max depth is 20 Prediction Performance for Training Data f1: 0.923956546598056\n",
            "Prediction Performance for Testing Data f1:  0.5212765957446809\n",
            "Fold Number: 5\n",
            "Max depth is 20 Prediction Performance for Training Data f1: 0.9093036863662961\n",
            "Prediction Performance for Testing Data f1:  0.4919786096256685\n",
            "Fold Number: 6\n",
            "Max depth is 20 Prediction Performance for Training Data f1: 0.923943661971831\n",
            "Prediction Performance for Testing Data f1:  0.5538461538461539\n",
            "Fold Number: 7\n",
            "Max depth is 20 Prediction Performance for Training Data f1: 0.9510250569476082\n",
            "Prediction Performance for Testing Data f1:  0.5279187817258884\n",
            "Fold Number: 8\n",
            "Max depth is 20 Prediction Performance for Training Data f1: 0.9265033407572383\n",
            "Prediction Performance for Testing Data f1:  0.4816753926701571\n",
            "Fold Number: 9\n",
            "Max depth is 20 Prediction Performance for Training Data f1: 0.9153713298791019\n",
            "Prediction Performance for Testing Data f1:  0.5327102803738317\n"
          ]
        }
      ],
      "source": [
        "for depth in range(low_max_depth, high_max_depth + 1):\n",
        "\n",
        "    fold = 0\n",
        "\n",
        "    for train_index, test_index in skf.split(data_X, data_Y):\n",
        "        print(\"Fold Number:\", fold)\n",
        "\n",
        "\n",
        "        x_train = list(data.take(train_index)['review'])\n",
        "    #    print(\"Training Data:\", x_train)\n",
        "        y_train = list(data.take(train_index)['classification'])\n",
        "    #    print(\"Training Data Target Output:\", y_train)\n",
        "        x_test = list(data.take(test_index)['review'])\n",
        "    #    print(\"Testing Data:\", x_test)\n",
        "        y_test = list(data.take(test_index)['classification'])\n",
        "\n",
        "        count_vect = CountVectorizer(token_pattern='(?:([@#]|[0-9]|[a-z]|[A-Z])+)', analyzer='word', min_df=2)\n",
        "        x_word_vect = count_vect.fit_transform(x_train)\n",
        "\n",
        "        clf = tree.DecisionTreeClassifier(criterion='entropy', random_state=100, max_depth=depth, min_samples_leaf=2)\n",
        "\n",
        "        clf.fit(x_word_vect, y_train)\n",
        "\n",
        "        ### Use the model generated to predict for training data\n",
        "        predicted_training_y = clf.predict(x_word_vect)\n",
        "\n",
        "        train_p = metrics.precision_score(y_train, predicted_training_y)\n",
        "        train_r = metrics.recall_score(y_train, predicted_training_y)\n",
        "        train_f1= metrics.f1_score(y_train, predicted_training_y)\n",
        "        training_performance_table[depth, fold, 0] = depth\n",
        "        training_performance_table[depth, fold, 1] = train_p\n",
        "        training_performance_table[depth, fold, 2] = train_r\n",
        "        training_performance_table[depth, fold, 3] = train_f1\n",
        "        print(\"Max depth is\", depth, \"Prediction Performance for Training Data f1:\", train_f1)\n",
        "\n",
        "        ### Use the model generated to predict for testint data\n",
        "        x_test_word_vect = count_vect.transform(x_test)\n",
        "        predicted_testing_y = clf.predict(x_test_word_vect)\n",
        "\n",
        "        test_p  = metrics.precision_score(y_test, predicted_testing_y)\n",
        "        test_r  = metrics.recall_score(y_test, predicted_testing_y)\n",
        "        test_f1 = metrics.f1_score(y_test, predicted_testing_y)\n",
        "        testing_performance_table[depth, fold, 0] = depth\n",
        "        testing_performance_table[depth, fold, 1] = test_p\n",
        "        testing_performance_table[depth, fold, 2] = test_r\n",
        "        testing_performance_table[depth, fold, 3] = test_f1\n",
        "        print(\"Prediction Performance for Testing Data f1: \", test_f1)\n",
        "\n",
        "        fold = fold + 1"
      ]
    },
    {
      "cell_type": "markdown",
      "metadata": {
        "id": "8kgBYkAD4P5x"
      },
      "source": [
        "This code calculates performance metrics (average, minimum, and maximum) for the F1 score across k-folds for decision trees trained with different maximum depth settings. Here's a breakdown:\n",
        "\n",
        "1. **Accessing F1 Scores**:  \n",
        "   - The `training_performance_table` is a 3D array where:\n",
        "     - The **first dimension** corresponds to a specific `max_depth` value.\n",
        "     - The **second dimension** corresponds to a specific fold in the k-fold cross-validation.\n",
        "     - The **third dimension**, at index `3`, stores the F1 score.  \n",
        "   - To extract F1 scores for all folds for a specific `max_depth` (e.g., `max_depth = 3`), you access the array at `training_performance_table[3, :, 3]`.\n",
        "\n",
        "2. **Calculating Metrics**:  \n",
        "   - The F1 scores for all folds are processed to compute:\n",
        "     - **Average F1 Score**: Mean of F1 scores across all folds for a specific `max_depth`.\n",
        "     - **Minimum F1 Score**: The lowest F1 score among all folds.\n",
        "     - **Maximum F1 Score**: The highest F1 score among all folds.\n",
        "\n",
        "This process evaluates how well the decision tree performs across different folds and determines the consistency and reliability of its classification performance."
      ]
    },
    {
      "cell_type": "code",
      "execution_count": 15,
      "metadata": {
        "id": "g-F5RVDF4P50",
        "trusted": true,
        "colab": {
          "base_uri": "https://localhost:8080/"
        },
        "outputId": "2a003c35-9faa-4d97-c15a-d3ea79f0a04c"
      },
      "outputs": [
        {
          "output_type": "stream",
          "name": "stdout",
          "text": [
            "[ 0.55197133  0.64308682  0.4272997   0.39039504  0.525       0.55852644\n",
            "  0.39215686  0.39316239  0.39293937  0.3807267 ]\n"
          ]
        }
      ],
      "source": [
        "f1_array = training_performance_table[3, 0:k+1:1, 3]\n",
        "print(f1_array)"
      ]
    },
    {
      "cell_type": "markdown",
      "metadata": {
        "id": "t8UaAAd04P55"
      },
      "source": [
        "#### Numpy offers a convenient way to calculate the average, the minimum, and the maximum value of a given array:\n",
        "    np.average returns the average of a given array\n",
        "    np.amin returns the minimum value of a given array\n",
        "    np.amax regturns the maximum value of a given array"
      ]
    },
    {
      "cell_type": "code",
      "execution_count": 16,
      "metadata": {
        "id": "krvsTTH84P57",
        "trusted": true,
        "colab": {
          "base_uri": "https://localhost:8080/"
        },
        "outputId": "ce010ff5-61fd-4959-fe28-59a05973ad09"
      },
      "outputs": [
        {
          "output_type": "execute_result",
          "data": {
            "text/plain": [
              "0.46552646544840171"
            ]
          },
          "metadata": {},
          "execution_count": 16
        }
      ],
      "source": [
        "np.average(f1_array)"
      ]
    },
    {
      "cell_type": "code",
      "execution_count": 17,
      "metadata": {
        "id": "6OBNbGrX4P6B",
        "trusted": true,
        "colab": {
          "base_uri": "https://localhost:8080/"
        },
        "outputId": "0fc8868d-b9a8-452e-be35-9ec3dae0fd04"
      },
      "outputs": [
        {
          "output_type": "execute_result",
          "data": {
            "text/plain": [
              "0.38072669826224331"
            ]
          },
          "metadata": {},
          "execution_count": 17
        }
      ],
      "source": [
        "np.amin(training_performance_table[3, 0:k+1:1, 3])"
      ]
    },
    {
      "cell_type": "code",
      "execution_count": 18,
      "metadata": {
        "id": "7xVuyFm24P6G",
        "trusted": true,
        "colab": {
          "base_uri": "https://localhost:8080/"
        },
        "outputId": "3c5e3af7-5316-44a8-bcd1-a178ea1c606c"
      },
      "outputs": [
        {
          "output_type": "execute_result",
          "data": {
            "text/plain": [
              "0.64308681672025725"
            ]
          },
          "metadata": {},
          "execution_count": 18
        }
      ],
      "source": [
        "np.amax(training_performance_table[3, 0:k+1:1, 3])"
      ]
    },
    {
      "cell_type": "markdown",
      "metadata": {
        "id": "n7tLvMmP4P6K",
        "trusted": false
      },
      "source": [
        "### We want to calculate the average performance across all folds for each max_depth so that we can compare them."
      ]
    },
    {
      "cell_type": "code",
      "execution_count": 19,
      "metadata": {
        "id": "bJaA_q2t4P6M",
        "trusted": true
      },
      "outputs": [],
      "source": [
        "cv_training_f1_summary = np.empty([high_max_depth + 1, 3])\n",
        "cv_testing_f1_summary  = np.empty([high_max_depth + 1, 3])\n",
        "first_fold = 0\n",
        "last_fold  = 5 + 1\n",
        "for depth in range(low_max_depth, high_max_depth + 1):\n",
        "    train_f1_array = training_performance_table[depth, first_fold:last_fold:1, 3]\n",
        "    cv_training_f1_summary[depth, 0] = np.average(train_f1_array)\n",
        "    cv_training_f1_summary[depth, 1] = np.amin(train_f1_array)\n",
        "    cv_training_f1_summary[depth, 2] = np.amax(train_f1_array)\n",
        "    test_f1_array = testing_performance_table[depth, first_fold:last_fold:1, 3]\n",
        "    cv_testing_f1_summary[depth, 0] = np.average(test_f1_array)\n",
        "    cv_testing_f1_summary[depth, 1] = np.amin(test_f1_array)\n",
        "    cv_testing_f1_summary[depth, 2] = np.amax(test_f1_array)"
      ]
    },
    {
      "cell_type": "markdown",
      "metadata": {
        "id": "q54STq-F4P6P"
      },
      "source": [
        "### We want to plot the average of f1 scores (across all k folds) for each max_depth, and compare the average of f1 scores for training data and testing data"
      ]
    },
    {
      "cell_type": "code",
      "execution_count": 20,
      "metadata": {
        "id": "h3RN6Qh_4P6Q",
        "trusted": true
      },
      "outputs": [],
      "source": [
        "import matplotlib.pyplot as plt\n",
        "from matplotlib.pyplot import *"
      ]
    },
    {
      "cell_type": "code",
      "execution_count": 21,
      "metadata": {
        "id": "KO43pw_t4P6U",
        "trusted": true
      },
      "outputs": [],
      "source": [
        "matplotlib.use('Agg')\n",
        "%matplotlib inline\n",
        "import matplotlib.pyplot as plots\n",
        "plots.style.use('fivethirtyeight')\n",
        "\n",
        "import warnings\n",
        "warnings.simplefilter(action=\"ignore\", category=FutureWarning)"
      ]
    },
    {
      "cell_type": "code",
      "execution_count": 22,
      "metadata": {
        "id": "6EomXSxp4P6X",
        "trusted": true,
        "colab": {
          "base_uri": "https://localhost:8080/"
        },
        "outputId": "605cd286-800b-4d22-92bb-063cae835665"
      },
      "outputs": [
        {
          "output_type": "stream",
          "name": "stdout",
          "text": [
            "[  2.   3.   4.   5.   6.   7.   8.   9.  10.  11.  12.  13.  14.  15.  16.\n",
            "  17.  18.  19.  20.]\n"
          ]
        }
      ],
      "source": [
        "depth = np.linspace(low_max_depth, high_max_depth, high_max_depth - low_max_depth + 1)\n",
        "print(depth)"
      ]
    },
    {
      "cell_type": "code",
      "execution_count": 23,
      "metadata": {
        "id": "37qSxtju4P6c",
        "trusted": true
      },
      "outputs": [],
      "source": [
        "avg_f1_training = cv_training_f1_summary[low_max_depth:high_max_depth+1, 0]\n",
        "min_f1_training = cv_training_f1_summary[low_max_depth:high_max_depth+1, 1]\n",
        "avg_f1_testing = cv_testing_f1_summary[low_max_depth:high_max_depth+1, 0]\n",
        "min_f1_testing = cv_testing_f1_summary[low_max_depth:high_max_depth+1, 1]"
      ]
    },
    {
      "cell_type": "markdown",
      "metadata": {
        "id": "6G4HW3cw4P6i"
      },
      "source": [
        "The code plots the average F1 score (across k folds) for training and testing data at various `max_depth` values. It calculates average F1 scores for each `max_depth`, then visualizes them using a line graph with `max_depth` on the x-axis and average F1 scores on the y-axis. The plot includes labels, legends, and gridlines to compare training and testing performance, highlighting trends like overfitting or underfitting."
      ]
    },
    {
      "cell_type": "code",
      "execution_count": 24,
      "metadata": {
        "id": "cd510Vss4P6j",
        "trusted": true,
        "colab": {
          "base_uri": "https://localhost:8080/",
          "height": 508
        },
        "outputId": "fa0b3b71-7361-4d9b-9146-7929fcde9695"
      },
      "outputs": [
        {
          "output_type": "display_data",
          "data": {
            "text/plain": [
              "<Figure size 640x480 with 1 Axes>"
            ],
            "image/png": "[encoded data removed]"
          },
          "metadata": {}
        }
      ],
      "source": [
        "training_avg_f1_label = str(k) + ' fold CV Avg f1 for training'\n",
        "testing_avg_f1_label  = str(k) + ' fold CV Avg f1 for testing'\n",
        "\n",
        "plt.plot(depth, avg_f1_training, label=training_avg_f1_label)\n",
        "plt.plot(depth, avg_f1_testing, label=testing_avg_f1_label)\n",
        "plt.xlabel('max_depth')\n",
        "plot_title = str(k) + \" Fold CV Avg f1 vs max_depth for training data and testing data\"\n",
        "plt.title(plot_title)\n",
        "plt.legend()\n",
        "plt.show()"
      ]
    },
    {
      "cell_type": "markdown",
      "metadata": {
        "id": "LsB1Y5tUW86m"
      },
      "source": [
        "This code plots the average and minimum F1 scores across k-folds for training and testing data against `max_depth`. It dynamically labels each line, adds a title reflecting the k-fold setup, and includes a legend. The plot helps compare training and testing performance trends at different `max_depth` values."
      ]
    },
    {
      "cell_type": "code",
      "execution_count": 25,
      "metadata": {
        "id": "AXlAbQOl4P6p",
        "trusted": true,
        "colab": {
          "base_uri": "https://localhost:8080/",
          "height": 508
        },
        "outputId": "6ad4c472-f3c2-4741-cc94-0cd22b81f001"
      },
      "outputs": [
        {
          "output_type": "display_data",
          "data": {
            "text/plain": [
              "<Figure size 640x480 with 1 Axes>"
            ],
            "image/png": "[encoded data removed]"
          },
          "metadata": {}
        }
      ],
      "source": [
        "training_min_f1_label = str(k) + ' fold CV Min f1 for training'\n",
        "testing_min_f1_label  = str(k) + ' fold CV Min f1 for testing'\n",
        "\n",
        "plt.plot(depth, avg_f1_training, label=training_avg_f1_label)\n",
        "plt.plot(depth, min_f1_training, label=training_min_f1_label)\n",
        "plt.plot(depth, avg_f1_testing,  label=testing_avg_f1_label)\n",
        "plt.plot(depth, min_f1_testing,  label=testing_min_f1_label)\n",
        "plt.xlabel('max_depth')\n",
        "plot_title = str(k) + ' Fold CV Avg and Min f1 vs max_depth for training data and testing data'\n",
        "plt.title(plot_title)\n",
        "plt.legend()\n",
        "plt.show()"
      ]
    },
    {
      "cell_type": "markdown",
      "metadata": {
        "id": "0fKp78UpXk8P"
      },
      "source": [
        "This exercise involves selecting the optimal `max_depth` based on an analysis of prediction performance and the risk of overfitting. The explanation highlights that at a depth of 4, the model achieves a balance: it minimizes the risk of overfitting while being sufficiently deep to avoid underfitting. Beyond a depth of 6, overfitting becomes evident as performance declines, reinforcing the choice of 4 as the best depth."
      ]
    }
  ],
  "metadata": {
    "colab": {
      "provenance": []
    },
    "kernelspec": {
      "display_name": "Python 3",
      "language": "python",
      "name": "python3"
    },
    "language_info": {
      "codemirror_mode": {
        "name": "ipython",
        "version": 3
      },
      "file_extension": ".py",
      "mimetype": "text/x-python",
      "name": "python",
      "nbconvert_exporter": "python",
      "pygments_lexer": "ipython3",
      "version": "3.5.4"
    }
  },
  "nbformat": 4,
  "nbformat_minor": 0
}